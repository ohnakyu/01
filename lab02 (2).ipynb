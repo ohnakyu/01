{
 "cells": [
  {
   "cell_type": "markdown",
   "id": "49b2bb3f-8a94-4aba-bf67-6b97d86c0047",
   "metadata": {},
   "source": [
    "# OOP (2024 Fall) 실습02: 캡슐화 원리가 적용된 방향그래프\n",
    "- 이름: 박완규\n",
    "- 학번: 20210506\n",
    "\n",
    "여기 홍길동, 99999999 대신 본인의 이름, 학번 작성"
   ]
  },
  {
   "cell_type": "code",
   "execution_count": 6,
   "id": "9a7ec71e-03fe-4fda-ad35-f614711a03b6",
   "metadata": {},
   "outputs": [
    {
     "ename": "CompilerException",
     "evalue": "",
     "output_type": "error",
     "traceback": [
      "\u001b[0m\u001b[1m\u001b[31mCompile error:\u001b[0m",
      "\u001b[0m\u001b[1m|    display(ImageIO.read(new \u001b[0m\u001b[1m\u001b[48;2;235;145;148mURL\u001b[0m\u001b[1m(\"https://mermaid.ink/img/\"+Base64.getEncoder().encodeToString(mmgraph.getBytes()))));\u001b[0m",
      "\u001b[0m\u001b[1m\u001b[34mcannot find symbol\u001b[0m",
      "\u001b[0m\u001b[1m\u001b[34m  symbol:   class URL\u001b[0m",
      ""
     ]
    }
   ],
   "source": [
    "import javax.imageio.*;\n",
    "\n",
    "var mmgraph = \"\"\"\n",
    "graph LR;\n",
    "    서울 --> 원주 --> 평창 --> 강릉\n",
    "    원주 --> 안동\n",
    "    서울 --> 천안 --> 대전 & 공주\n",
    "    대전 --> 대구 --> 부산\n",
    "    공주 --> 익산 --> 광주 --> 목포\n",
    "    대전 --> 익산 --> 전주 --> 여수\n",
    "\"\"\";\n",
    "\n",
    "display(ImageIO.read(new URL(\"https://mermaid.ink/img/\"+Base64.getEncoder().encodeToString(mmgraph.getBytes()))));"
   ]
  },
  {
   "cell_type": "markdown",
   "id": "c7568242-c4fe-404d-abcd-c65aff5ccefa",
   "metadata": {},
   "source": [
    "## 방향그래프 레코드\n",
    "노드가 String인 인접리스트 표현을 구성요소로 포함하는 레코드의 정의를 캡슐화 원리가 잘 지켜지도록 수정/완성해 보라.\n",
    "\n",
    "adjList는 실습01에서 작성했던 routeMap으로 초기화한다고 보면 된다."
   ]
  },
  {
   "cell_type": "code",
   "execution_count": 7,
   "id": "21e36349-1e81-4962-878f-9353e48dc726",
   "metadata": {},
   "outputs": [],
   "source": [
    "import java.util.*;\n",
    "\n",
    "public record Graph(Map<String, List<String>> adjList) {\n",
    "    // 기본 생성자를 수정하여 Map을 불변 객체로 설정\n",
    "    public Graph(Map<String, List<String>> adjList) {\n",
    "        // adjList가 null이 아닌지 확인하고, 불변 맵으로 감싼다\n",
    "        this.adjList = Map.copyOf(Objects.requireNonNull(adjList));\n",
    "    }\n",
    "\n",
    "    // orig 노드로부터 직접 연결된 모든 노드들의 리스트를 반환하는 메서드\n",
    "    // orig가 그래프의 노드가 아닌 경우 null을 리턴\n",
    "    public List<String> adjFrom(String orig) {\n",
    "        // orig에 대한 연결 리스트를 반환, 존재하지 않으면 null 리턴\n",
    "        return adjList.getOrDefault(orig, null);\n",
    "    }\n",
    "\n",
    "    // 선택 사항: orig에서 dest로 가는 경로가 있는지 확인하는 메서드\n",
    "    public boolean hasPath(String orig, String dest) {\n",
    "        if (!adjList.containsKey(orig) || !adjList.containsKey(dest)) {\n",
    "            return false;\n",
    "        }\n",
    "        Set<String> visited = new HashSet<>();\n",
    "        return dfs(orig, dest, visited);\n",
    "    }\n",
    "\n",
    "    // 깊이 우선 탐색(DFS)을 사용한 경로 탐색\n",
    "    private boolean dfs(String current, String dest, Set<String> visited) {\n",
    "        if (current.equals(dest)) {\n",
    "            return true;\n",
    "        }\n",
    "        visited.add(current);\n",
    "        List<String> neighbors = adjList.get(current);\n",
    "        if (neighbors == null) {\n",
    "            return false;\n",
    "        }\n",
    "        for (String neighbor : neighbors) {\n",
    "            if (!visited.contains(neighbor) && dfs(neighbor, dest, visited)) {\n",
    "                return true;\n",
    "            }\n",
    "        }\n",
    "        return false;\n",
    "    }\n",
    "}\n"
   ]
  },
  {
   "cell_type": "markdown",
   "id": "88b9d747-6976-4934-af7a-c9299d84f493",
   "metadata": {},
   "source": [
    "#### 코드에서 어떤 부분을 신경써서 캡슐화 원리가 잘 지켜지도록 작성했는지 되도록 짧게 설명하라. (200자 넘지 않게)\n",
    "\n",
    "여기에 설명을 작성 ..."
   ]
  },
  {
   "cell_type": "markdown",
   "id": "4eb73094-9222-404c-9b92-368d95d0bb80",
   "metadata": {},
   "source": [
    "#### 그래프 객체 생성 및 활용\n",
    "실습01에서처럼 위의 하행선 철도 노선도를 자바의 Map과 List를 활용한 인접리스트(adjacencty list) 데이터 구조로 옮겨 `Graph` 레코드의 인스턴스를 생성해 `routeGraph` 변수에 저장해 보라."
   ]
  },
  {
   "cell_type": "code",
   "execution_count": 8,
   "id": "d4d65e86-0f95-430c-a5e4-2a499e9d8f42",
   "metadata": {},
   "outputs": [],
   "source": [
    "import java.util.*;\n",
    "\n",
    "public class Main {\n",
    "    public static void main(String[] args) {\n",
    "        // 하행선 철도 노선도 인접리스트 초기화\n",
    "        var routeMap = new HashMap<String, List<String>>() {{\n",
    "            put(\"서울\", new ArrayList<>(List.of(\"원주\", \"천안\")));\n",
    "            put(\"원주\", new ArrayList<>(List.of(\"평창\", \"안동\"))); put(\"안동\", new ArrayList<>());\n",
    "            put(\"평창\", new ArrayList<>(List.of(\"강릉\")));         put(\"강릉\", new ArrayList<>());\n",
    "            put(\"천안\", new ArrayList<>(List.of(\"대전\", \"공주\")));\n",
    "            put(\"대전\", new ArrayList<>(List.of(\"대구\", \"익산\")));\n",
    "            put(\"대구\", new ArrayList<>(List.of(\"부산\")));         put(\"부산\", new ArrayList<>());\n",
    "            put(\"공주\", new ArrayList<>(List.of(\"익산\")));\n",
    "            put(\"익산\", new ArrayList<>(List.of(\"광주\", \"전주\")));\n",
    "            put(\"광주\", new ArrayList<>(List.of(\"목포\")));         put(\"목포\", new ArrayList<>());\n",
    "            put(\"전주\", new ArrayList<>(List.of(\"여수\")));         put(\"여수\", new ArrayList<>());\n",
    "        }};\n",
    "\n",
    "        // Graph 인스턴스 생성\n",
    "        Graph routeGraph = new Graph(routeMap);\n",
    "\n",
    "        // 인스턴스 출력 확인\n",
    "        System.out.println(routeGraph);\n",
    "    }\n",
    "}\n"
   ]
  },
  {
   "cell_type": "code",
   "execution_count": 9,
   "id": "e0417003-b35e-4649-9da3-6580cd30ae79",
   "metadata": {},
   "outputs": [
    {
     "name": "stdout",
     "output_type": "stream",
     "text": [
      "Graph[adjList={목포=[], 대전=[대구, 익산], 익산=[광주, 전주], 부산=[], 대구=[부산], 천안=[대전, 공주], 서울=[원주, 천안], 원주=[평창, 안동], 강릉=[], 전주=[여수], 광주=[목포], 공주=[익산], 평창=[강릉], 안동=[], 여수=[]}]\n"
     ]
    }
   ],
   "source": [
    "var routeGraph = new Graph(routeMap);\n",
    "\n",
    "System.out.println(routeGraph);"
   ]
  },
  {
   "cell_type": "markdown",
   "id": "b3e6cda7-c154-4acb-b9db-b62b8e45c7de",
   "metadata": {},
   "source": [
    "그리고 adjFrom 메소드를 호출했을 때 크기가 0, 1, 2인 리스트를 리턴하는 경우 및 null을 리턴하는 경우를 작성해 보라."
   ]
  },
  {
   "cell_type": "code",
   "execution_count": 5,
   "id": "d77f995f-3087-4bed-8a35-a84ef3331eaf",
   "metadata": {},
   "outputs": [],
   "source": [
    "System.out.println( routeGraph.adjFrom(\"서울\") );"
   ]
  },
  {
   "cell_type": "code",
   "execution_count": 6,
   "id": "76d640f4-fefa-49e2-b91f-8a86465d3eac",
   "metadata": {},
   "outputs": [],
   "source": [
    "System.out.println( routeGraph.adjFrom(\"대전\") );"
   ]
  },
  {
   "cell_type": "code",
   "execution_count": 7,
   "id": "c3ff8d40-47e0-4313-8469-150b5b484d81",
   "metadata": {},
   "outputs": [],
   "source": [
    "System.out.println( routeGraph.adjFrom(\"전주\") );"
   ]
  },
  {
   "cell_type": "code",
   "execution_count": 8,
   "id": "f2b4bcb7-9d9c-494a-9762-ca0700c6f762",
   "metadata": {},
   "outputs": [],
   "source": [
    "System.out.println( routeGraph.adjFrom(\"0\") );"
   ]
  },
  {
   "cell_type": "code",
   "execution_count": 8,
   "id": "b2b36e61-4ceb-4cfd-b3b0-b1b152ad5d1e",
   "metadata": {},
   "outputs": [],
   "source": [
    "System.out.println( routeGraph.adjFrom(\"0\") );"
   ]
  },
  {
   "cell_type": "code",
   "execution_count": 8,
   "id": "2e1942d3-3e9d-47e4-9028-b4b5d2462ca1",
   "metadata": {},
   "outputs": [],
   "source": [
    "System.out.println( routeGraph.adjFrom(\"0\") );"
   ]
  }
 ],
 "metadata": {
  "kernelspec": {
   "display_name": "Java (rjk 2.1.0)",
   "language": "java",
   "name": "rapaio-jupyter-kernel"
  },
  "language_info": {
   "codemirror_mode": "java",
   "file_extension": ".jshell",
   "mimetype": "text/x-java-source",
   "name": "java",
   "nbconvert_exporter": "script",
   "pygments_lexer": "java",
   "version": "22.0.2+9"
  }
 },
 "nbformat": 4,
 "nbformat_minor": 5
}
